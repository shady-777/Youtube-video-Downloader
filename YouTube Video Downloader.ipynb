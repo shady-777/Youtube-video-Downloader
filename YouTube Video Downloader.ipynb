{
 "cells": [
  {
   "cell_type": "code",
   "execution_count": 1,
   "id": "1d61caf6",
   "metadata": {},
   "outputs": [
    {
     "name": "stdout",
     "output_type": "stream",
     "text": [
      "Defaulting to user installation because normal site-packages is not writeable\n",
      "Requirement already satisfied: pytube in c:\\users\\user\\appdata\\roaming\\python\\python39\\site-packages (12.1.2)\n"
     ]
    }
   ],
   "source": [
    "!pip install pytube"
   ]
  },
  {
   "cell_type": "code",
   "execution_count": 2,
   "id": "21619585",
   "metadata": {},
   "outputs": [
    {
     "name": "stdout",
     "output_type": "stream",
     "text": [
      "Defaulting to user installation because normal site-packages is not writeable\n"
     ]
    },
    {
     "name": "stderr",
     "output_type": "stream",
     "text": [
      "ERROR: Could not find a version that satisfies the requirement tkinter (from versions: none)\n",
      "ERROR: No matching distribution found for tkinter\n"
     ]
    }
   ],
   "source": [
    "!pip install tkinter"
   ]
  },
  {
   "cell_type": "code",
   "execution_count": 3,
   "id": "58dd1168",
   "metadata": {},
   "outputs": [],
   "source": [
    "from tkinter import *\n"
   ]
  },
  {
   "cell_type": "code",
   "execution_count": 4,
   "id": "7d53f92f",
   "metadata": {},
   "outputs": [],
   "source": [
    "from pytube import YouTube"
   ]
  },
  {
   "cell_type": "code",
   "execution_count": 5,
   "id": "92be4018",
   "metadata": {},
   "outputs": [
    {
     "data": {
      "text/plain": [
       "''"
      ]
     },
     "execution_count": 5,
     "metadata": {},
     "output_type": "execute_result"
    }
   ],
   "source": [
    "root = Tk()\n",
    "root.geometry('500x300')\n",
    "root.resizable(0,0)\n",
    "root.title(\"youtube video downloader\")"
   ]
  },
  {
   "cell_type": "code",
   "execution_count": 6,
   "id": "47d876f7",
   "metadata": {},
   "outputs": [],
   "source": [
    "Label(root,text = 'Youtube Video Downloader',font = 'arial 20 bold').pack()"
   ]
  },
  {
   "cell_type": "code",
   "execution_count": 7,
   "id": "de6cd357",
   "metadata": {},
   "outputs": [],
   "source": [
    "link = StringVar()\n",
    "\n",
    "Label(root, text = 'Paste Link Here:', font = 'arial 15 bold').place(x= 160 , y = 60)\n",
    "\n"
   ]
  },
  {
   "cell_type": "code",
   "execution_count": 8,
   "id": "29b3cbee",
   "metadata": {},
   "outputs": [],
   "source": [
    "link_enter = Entry(root, width =70,textvariable= link).place(x = 32, y =90)"
   ]
  },
  {
   "cell_type": "code",
   "execution_count": 9,
   "id": "1f1a341a",
   "metadata": {},
   "outputs": [],
   "source": [
    "def Downloader():\n",
    "    url = YouTube(str(link.get()))\n",
    "    video = url.streams.first()\n",
    "    video.download()\n",
    "    Label(root, text = 'DOWNLOADED', font = 'arial 15').place(x =100, y=210)\n",
    "Button(root,text = 'DOWNLOAD', font = 'arial 15 bold' ,bg = 'pale violet red', padx = 2, command = Downloader).place(x=100, y=150)\n",
    "\n",
    "root.mainloop()"
   ]
  },
  {
   "cell_type": "code",
   "execution_count": 10,
   "id": "5ccbdfb9",
   "metadata": {},
   "outputs": [
    {
     "data": {
      "text/plain": [
       "'C:\\\\Users\\\\USER\\\\Desktop\\\\YouTube Video Downloader'"
      ]
     },
     "execution_count": 10,
     "metadata": {},
     "output_type": "execute_result"
    }
   ],
   "source": [
    "pwd"
   ]
  }
 ],
 "metadata": {
  "kernelspec": {
   "display_name": "Python 3 (ipykernel)",
   "language": "python",
   "name": "python3"
  },
  "language_info": {
   "codemirror_mode": {
    "name": "ipython",
    "version": 3
   },
   "file_extension": ".py",
   "mimetype": "text/x-python",
   "name": "python",
   "nbconvert_exporter": "python",
   "pygments_lexer": "ipython3",
   "version": "3.9.13"
  }
 },
 "nbformat": 4,
 "nbformat_minor": 5
}
